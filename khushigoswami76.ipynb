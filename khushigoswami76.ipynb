{
  "nbformat": 4,
  "nbformat_minor": 0,
  "metadata": {
    "colab": {
      "provenance": []
    },
    "kernelspec": {
      "name": "python3",
      "display_name": "Python 3"
    },
    "language_info": {
      "name": "python"
    }
  },
  "cells": [
    {
      "cell_type": "code",
      "execution_count": 3,
      "metadata": {
        "colab": {
          "base_uri": "https://localhost:8080/"
        },
        "id": "ju1u71pycqkS",
        "outputId": "26651515-b533-4cf6-be78-a205fecdc26e"
      },
      "outputs": [
        {
          "output_type": "stream",
          "name": "stdout",
          "text": [
            "Hello World!\n",
            "here!\n"
          ]
        }
      ],
      "source": [
        "print(\"Hello World!\")\n",
        "print(\"here!\")"
      ]
    },
    {
      "cell_type": "code",
      "source": [
        "print(\"hey there!\")"
      ],
      "metadata": {
        "colab": {
          "base_uri": "https://localhost:8080/"
        },
        "id": "ZTPbD--NeHlY",
        "outputId": "a72bf37a-325d-472d-f854-b2fcfbe7cd3a"
      },
      "execution_count": 5,
      "outputs": [
        {
          "output_type": "stream",
          "name": "stdout",
          "text": [
            "hey there!\n"
          ]
        }
      ]
    }
  ]
}